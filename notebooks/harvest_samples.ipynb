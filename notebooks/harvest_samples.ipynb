{
 "cells": [
  {
   "cell_type": "code",
   "execution_count": 1,
   "metadata": {},
   "outputs": [],
   "source": [
    "import requests\n",
    "from datetime import datetime, timedelta\n",
    "import math\n",
    "from ghapi.all import GhApi"
   ]
  },
  {
   "cell_type": "code",
   "execution_count": 2,
   "metadata": {},
   "outputs": [],
   "source": [
    "import base64\n",
    "import json"
   ]
  },
  {
   "cell_type": "code",
   "execution_count": 3,
   "metadata": {},
   "outputs": [],
   "source": [
    "github_key = None\n",
    "with open(\".env\", \"r\") as f:\n",
    "    lines = f.readlines()\n",
    "\n",
    "    for line in lines:\n",
    "        if line.startswith(\"GITHUB_TOKEN\"):\n",
    "            parts = line.split(\"=\")[1:]\n",
    "            github_key = \"=\".join(parts).strip().strip('\"')\n",
    "            continue\n",
    "\n",
    "assert github_key is not None, \"Github key not found in .env file\"\n",
    "github = GhApi(owner='azure',token=github_key)"
   ]
  },
  {
   "cell_type": "code",
   "execution_count": 4,
   "metadata": {},
   "outputs": [],
   "source": [
    "# #### print to see option\n",
    "# # api.repos\n",
    "# azure_sdk_readmes = []\n",
    "# sdk_list = api.repos.get_content(owner='azure', repo='azure-sdk-for-net', path='sdk', ref='main')\n",
    "\n",
    "# for subdirs in sdk_list:\n",
    "#     print(subdirs.path)\n",
    "#     sdks = api.repos.get_content(owner='azure', repo='azure-sdk-for-net', path=subdirs.path, ref='main')\n",
    "\n",
    "#     for sdk in sdks:\n",
    "#         sdk_contents = api.repos.get_content(owner='azure', repo='azure-sdk-for-net', path=sdk.path, ref='main')\n",
    "#         # print (sdk_contents)\n",
    "#         # print (\"deeznuts!\")\n",
    "#         # print(sdk.path)\n",
    "#         # readme = api.repos.get_readme(owner='azure', repo='azure-sdk-for-net', path=sdk.path, ref='main')\n",
    "#         # print (readme)\n",
    "#         for content in sdk_contents:\n",
    "#             if isinstance(content, str):\n",
    "#                 continue\n",
    "#             if content.type == \"file\" and content.name == 'README.md':\n",
    "#                 # print(\"found one!\")\n",
    "#                 # print(content)\n",
    "#                 azure_sdk_readmes.append(content)\n",
    "#                 break\n",
    "\n",
    "# len(azure_sdk_readmes)"
   ]
  },
  {
   "cell_type": "code",
   "execution_count": 5,
   "metadata": {},
   "outputs": [],
   "source": [
    "def get_azure_sdk_readmes(owner, repo):\n",
    "    azure_sdk_readmes = []\n",
    "    sdk_list = github.repos.get_content(owner=owner, repo=repo, path='sdk', ref='main')\n",
    "\n",
    "    for subdirs in sdk_list:\n",
    "        if isinstance(subdirs, str):\n",
    "            continue\n",
    "        sdks = github.repos.get_content(owner=owner, repo=repo, path=subdirs.path, ref='main')\n",
    "\n",
    "        for sdk in sdks:\n",
    "            if isinstance(sdk, str):\n",
    "                continue\n",
    "            if sdk.type == \"file\" and sdk.name == 'README.md':\n",
    "                    azure_sdk_readmes.append(sdk)\n",
    "                    break\n",
    "            sdk_contents = github.repos.get_content(owner=owner, repo=repo, path=sdk.path, ref='main')\n",
    "\n",
    "            for content in sdk_contents:\n",
    "                if isinstance(content, str):\n",
    "                    continue\n",
    "                if content.type == \"file\" and content.name == 'README.md':\n",
    "                    azure_sdk_readmes.append(content)\n",
    "                    break\n",
    "\n",
    "    return azure_sdk_readmes"
   ]
  },
  {
   "cell_type": "code",
   "execution_count": 6,
   "metadata": {},
   "outputs": [],
   "source": [
    "def get_azure_sdk_samples (owner, repo):\n",
    "    azure_sdk_samples = []\n",
    "    sdk_list = github.repos.get_content(owner=owner, repo=repo, path='sdk', ref='main')\n",
    "\n",
    "    for subdirs in sdk_list:\n",
    "        if isinstance(subdirs, str):\n",
    "            continue\n",
    "        sdks = github.repos.get_content(owner=owner, repo=repo, path=subdirs.path, ref='main')\n",
    "\n",
    "        for sdk in sdks:\n",
    "            if isinstance(sdk, str):\n",
    "                continue\n",
    "            sdk_contents = github.repos.get_content(owner=owner, repo=repo, path=sdk.path, ref='main')\n",
    "            for content in sdk_contents:\n",
    "                if isinstance(content, str):\n",
    "                    continue\n",
    "                if content.type == \"dir\" and content.name == 'samples':\n",
    "                    sample_contents = github.repos.get_content(owner=owner, repo=repo, path=content.path, ref='main')\n",
    "                    for files in sample_contents:\n",
    "                        if files.type == \"file\":\n",
    "                            azure_sdk_samples.append(files)\n",
    "                            print(files)\n",
    "                            break\n",
    "                \n",
    "\n",
    "    return azure_sdk_samples"
   ]
  },
  {
   "cell_type": "code",
   "execution_count": 7,
   "metadata": {},
   "outputs": [],
   "source": [
    "def getREADMEContent(repos, language, api=github):\n",
    "    #### Functin that takes in list of README URLS and returns an object of the form:\n",
    "    #### [{\"url_to_readme\":url,\"content\":content,\"repo_name\":repo_name,\"org_name\":org_name,\"link_to_repo\":repo_link, \"repo_ghapi_response\":repo_ghapi_response},...]\n",
    "    #### The line used to get README content from ghapi JSON response is `content = base64.b64decode(api.repos.get_readme(repos[10].name)['content']).decode('utf-8')`\n",
    "    #### The incoming list is a list of objects from a call like api.repos.get_readme(repos[10].name)\n",
    "    #### where repos is the ghapi response for a call like api.repos.list_for_org(org='microsoft',per_page=100,page=1)\n",
    "    results = []\n",
    "    for repoJSON in repos:\n",
    "        # print(repoJSON.path)\n",
    "        try:\n",
    "            newObject = {\n",
    "                # 'README_text': base64.b64decode(api.repos.get_readme(repoJSON.name)['content']).decode('utf-8'),\n",
    "                'README_text': requests.get(repoJSON.download_url).text,\n",
    "                'repo_name': (repoJSON.path.replace('sdk/', '')).replace('/README.md', ''),\n",
    "                # 'org_name': repoJSON.owner.login,\n",
    "                # 'org_repo': repoJSON.owner.login + '/' + repoJSON.name,\n",
    "                # 'platform_org_repo': platform + '+' + repoJSON.owner.login + '/' + repoJSON.name,\n",
    "                'link_to_repo': repoJSON.html_url.replace('/README.md', ''),\n",
    "                # \"repo_api_response\": dict(repoJSON), ### The incoming dict is a class fastcore so this fail!\n",
    "                # \"platform\": platform,\n",
    "                # \"archived\": repoJSON.archived,\n",
    "                # \"description\": repoJSON.description,\n",
    "                # \"fork\": repoJSON.fork,\n",
    "                # \"forks_count\": repoJSON.forks_count,\n",
    "                # \"is_template\": repoJSON.is_template,\n",
    "                \"language\": language,\n",
    "                # \"languages_url\": repoJSON.languages_url,\n",
    "                # \"license\": repoJSON.license.spdx_id,\n",
    "                # \"open_issues_count\": repoJSON.open_issues_count,\n",
    "                # \"open_issues\": repoJSON.open_issues,\n",
    "                # \"pushed_at\": repoJSON.pushed_at,\n",
    "                # \"stargazers_count\": repoJSON.stargazers_count,\n",
    "                # \"watchers_count\": repoJSON.watchers_count,\n",
    "                # \"size\": repoJSON.size,\n",
    "                # \"default_branch\": repoJSON.default_branch,\n",
    "                # \"visibility\": repoJSON.visibility,\n",
    "                # \"topics\": repoJSON.topics\n",
    "                # \"updated_at\": repoJSON.updated_at,\n",
    "\n",
    "            }\n",
    "            ##results[platform + \"+\" + repoJSON.owner.login +  \"+\" + repoJSON.name] = newObject\n",
    "            # print(newObject)\n",
    "            results.append(newObject)\n",
    "        except Exception as err:\n",
    "            print(f'Error occurred while processing {repoJSON}: {err}')\n",
    "\n",
    "    return results"
   ]
  },
  {
   "cell_type": "code",
   "execution_count": 8,
   "metadata": {},
   "outputs": [],
   "source": [
    "# api.repos"
   ]
  },
  {
   "cell_type": "code",
   "execution_count": 9,
   "metadata": {},
   "outputs": [],
   "source": [
    "# all_data = getXNumberReposSinceDateInGivenOrg(orgs=['Azure','Azure-Samples','MicrosoftDocs'],numberOfReposToSearchThrough=20000,per_page=100,since='2022-06-07T22:49:39Z',platform='github',output_file_path=\"../data/READMEs/azure_past_365days.json\")"
   ]
  },
  {
   "cell_type": "code",
   "execution_count": 10,
   "metadata": {},
   "outputs": [
    {
     "name": "stdout",
     "output_type": "stream",
     "text": [
      "{'name': 'pom.xml', 'path': 'sdk/applicationinsights/microsoft-azure-applicationinsights-query/samples/pom.xml', 'sha': '9336ce554fa19c7da15c70dde6d69eae3e37f839', 'size': 3211, 'url': 'https://api.github.com/repos/Azure/azure-sdk-for-java/contents/sdk/applicationinsights/microsoft-azure-applicationinsights-query/samples/pom.xml?ref=main', 'html_url': 'https://github.com/Azure/azure-sdk-for-java/blob/main/sdk/applicationinsights/microsoft-azure-applicationinsights-query/samples/pom.xml', 'git_url': 'https://api.github.com/repos/Azure/azure-sdk-for-java/git/blobs/9336ce554fa19c7da15c70dde6d69eae3e37f839', 'download_url': 'https://raw.githubusercontent.com/Azure/azure-sdk-for-java/main/sdk/applicationinsights/microsoft-azure-applicationinsights-query/samples/pom.xml', 'type': 'file', '_links': {'self': 'https://api.github.com/repos/Azure/azure-sdk-for-java/contents/sdk/applicationinsights/microsoft-azure-applicationinsights-query/samples/pom.xml?ref=main', 'git': 'https://api.github.com/repos/Azure/azure-sdk-for-java/git/blobs/9336ce554fa19c7da15c70dde6d69eae3e37f839', 'html': 'https://github.com/Azure/azure-sdk-for-java/blob/main/sdk/applicationinsights/microsoft-azure-applicationinsights-query/samples/pom.xml'}}\n",
      "{'name': 'pom.xml', 'path': 'sdk/loganalytics/microsoft-azure-loganalytics/samples/pom.xml', 'sha': '516d7174aaf23c3cd60cf69a99a2e19ff9764908', 'size': 3237, 'url': 'https://api.github.com/repos/Azure/azure-sdk-for-java/contents/sdk/loganalytics/microsoft-azure-loganalytics/samples/pom.xml?ref=main', 'html_url': 'https://github.com/Azure/azure-sdk-for-java/blob/main/sdk/loganalytics/microsoft-azure-loganalytics/samples/pom.xml', 'git_url': 'https://api.github.com/repos/Azure/azure-sdk-for-java/git/blobs/516d7174aaf23c3cd60cf69a99a2e19ff9764908', 'download_url': 'https://raw.githubusercontent.com/Azure/azure-sdk-for-java/main/sdk/loganalytics/microsoft-azure-loganalytics/samples/pom.xml', 'type': 'file', '_links': {'self': 'https://api.github.com/repos/Azure/azure-sdk-for-java/contents/sdk/loganalytics/microsoft-azure-loganalytics/samples/pom.xml?ref=main', 'git': 'https://api.github.com/repos/Azure/azure-sdk-for-java/git/blobs/516d7174aaf23c3cd60cf69a99a2e19ff9764908', 'html': 'https://github.com/Azure/azure-sdk-for-java/blob/main/sdk/loganalytics/microsoft-azure-loganalytics/samples/pom.xml'}}\n",
      "finished writing to file:  ../data/READMEs/azure_sdk_samples_java_list.json\n",
      "{'name': '.gitkeep', 'path': 'sdk/communication/communication-common/samples/.gitkeep', 'sha': 'e69de29bb2d1d6434b8b29ae775ad8c2e48c5391', 'size': 0, 'url': 'https://api.github.com/repos/Azure/azure-sdk-for-js/contents/sdk/communication/communication-common/samples/.gitkeep?ref=main', 'html_url': 'https://github.com/Azure/azure-sdk-for-js/blob/main/sdk/communication/communication-common/samples/.gitkeep', 'git_url': 'https://api.github.com/repos/Azure/azure-sdk-for-js/git/blobs/e69de29bb2d1d6434b8b29ae775ad8c2e48c5391', 'download_url': 'https://raw.githubusercontent.com/Azure/azure-sdk-for-js/main/sdk/communication/communication-common/samples/.gitkeep', 'type': 'file', '_links': {'self': 'https://api.github.com/repos/Azure/azure-sdk-for-js/contents/sdk/communication/communication-common/samples/.gitkeep?ref=main', 'git': 'https://api.github.com/repos/Azure/azure-sdk-for-js/git/blobs/e69de29bb2d1d6434b8b29ae775ad8c2e48c5391', 'html': 'https://github.com/Azure/azure-sdk-for-js/blob/main/sdk/communication/communication-common/samples/.gitkeep'}}\n",
      "{'name': '.gitkeep', 'path': 'sdk/core/core-auth/samples/.gitkeep', 'sha': 'e69de29bb2d1d6434b8b29ae775ad8c2e48c5391', 'size': 0, 'url': 'https://api.github.com/repos/Azure/azure-sdk-for-js/contents/sdk/core/core-auth/samples/.gitkeep?ref=main', 'html_url': 'https://github.com/Azure/azure-sdk-for-js/blob/main/sdk/core/core-auth/samples/.gitkeep', 'git_url': 'https://api.github.com/repos/Azure/azure-sdk-for-js/git/blobs/e69de29bb2d1d6434b8b29ae775ad8c2e48c5391', 'download_url': 'https://raw.githubusercontent.com/Azure/azure-sdk-for-js/main/sdk/core/core-auth/samples/.gitkeep', 'type': 'file', '_links': {'self': 'https://api.github.com/repos/Azure/azure-sdk-for-js/contents/sdk/core/core-auth/samples/.gitkeep?ref=main', 'git': 'https://api.github.com/repos/Azure/azure-sdk-for-js/git/blobs/e69de29bb2d1d6434b8b29ae775ad8c2e48c5391', 'html': 'https://github.com/Azure/azure-sdk-for-js/blob/main/sdk/core/core-auth/samples/.gitkeep'}}\n",
      "{'name': '.gitkeep', 'path': 'sdk/core/core-client/samples/.gitkeep', 'sha': 'e69de29bb2d1d6434b8b29ae775ad8c2e48c5391', 'size': 0, 'url': 'https://api.github.com/repos/Azure/azure-sdk-for-js/contents/sdk/core/core-client/samples/.gitkeep?ref=main', 'html_url': 'https://github.com/Azure/azure-sdk-for-js/blob/main/sdk/core/core-client/samples/.gitkeep', 'git_url': 'https://api.github.com/repos/Azure/azure-sdk-for-js/git/blobs/e69de29bb2d1d6434b8b29ae775ad8c2e48c5391', 'download_url': 'https://raw.githubusercontent.com/Azure/azure-sdk-for-js/main/sdk/core/core-client/samples/.gitkeep', 'type': 'file', '_links': {'self': 'https://api.github.com/repos/Azure/azure-sdk-for-js/contents/sdk/core/core-client/samples/.gitkeep?ref=main', 'git': 'https://api.github.com/repos/Azure/azure-sdk-for-js/git/blobs/e69de29bb2d1d6434b8b29ae775ad8c2e48c5391', 'html': 'https://github.com/Azure/azure-sdk-for-js/blob/main/sdk/core/core-client/samples/.gitkeep'}}\n",
      "{'name': 'gotHttpClient.ts', 'path': 'sdk/core/core-http/samples/gotHttpClient.ts', 'sha': '7ae1425331ba1af3c4dcea26074b52f4577a605b', 'size': 1921, 'url': 'https://api.github.com/repos/Azure/azure-sdk-for-js/contents/sdk/core/core-http/samples/gotHttpClient.ts?ref=main', 'html_url': 'https://github.com/Azure/azure-sdk-for-js/blob/main/sdk/core/core-http/samples/gotHttpClient.ts', 'git_url': 'https://api.github.com/repos/Azure/azure-sdk-for-js/git/blobs/7ae1425331ba1af3c4dcea26074b52f4577a605b', 'download_url': 'https://raw.githubusercontent.com/Azure/azure-sdk-for-js/main/sdk/core/core-http/samples/gotHttpClient.ts', 'type': 'file', '_links': {'self': 'https://api.github.com/repos/Azure/azure-sdk-for-js/contents/sdk/core/core-http/samples/gotHttpClient.ts?ref=main', 'git': 'https://api.github.com/repos/Azure/azure-sdk-for-js/git/blobs/7ae1425331ba1af3c4dcea26074b52f4577a605b', 'html': 'https://github.com/Azure/azure-sdk-for-js/blob/main/sdk/core/core-http/samples/gotHttpClient.ts'}}\n",
      "{'name': 'README.md', 'path': 'sdk/core/core-lro/samples/README.md', 'sha': 'd1c903e9bd0f80e219bc7a685468350bc06b0dc1', 'size': 10582, 'url': 'https://api.github.com/repos/Azure/azure-sdk-for-js/contents/sdk/core/core-lro/samples/README.md?ref=main', 'html_url': 'https://github.com/Azure/azure-sdk-for-js/blob/main/sdk/core/core-lro/samples/README.md', 'git_url': 'https://api.github.com/repos/Azure/azure-sdk-for-js/git/blobs/d1c903e9bd0f80e219bc7a685468350bc06b0dc1', 'download_url': 'https://raw.githubusercontent.com/Azure/azure-sdk-for-js/main/sdk/core/core-lro/samples/README.md', 'type': 'file', '_links': {'self': 'https://api.github.com/repos/Azure/azure-sdk-for-js/contents/sdk/core/core-lro/samples/README.md?ref=main', 'git': 'https://api.github.com/repos/Azure/azure-sdk-for-js/git/blobs/d1c903e9bd0f80e219bc7a685468350bc06b0dc1', 'html': 'https://github.com/Azure/azure-sdk-for-js/blob/main/sdk/core/core-lro/samples/README.md'}}\n",
      "{'name': '.gitkeep', 'path': 'sdk/core/core-util/samples/.gitkeep', 'sha': 'e69de29bb2d1d6434b8b29ae775ad8c2e48c5391', 'size': 0, 'url': 'https://api.github.com/repos/Azure/azure-sdk-for-js/contents/sdk/core/core-util/samples/.gitkeep?ref=main', 'html_url': 'https://github.com/Azure/azure-sdk-for-js/blob/main/sdk/core/core-util/samples/.gitkeep', 'git_url': 'https://api.github.com/repos/Azure/azure-sdk-for-js/git/blobs/e69de29bb2d1d6434b8b29ae775ad8c2e48c5391', 'download_url': 'https://raw.githubusercontent.com/Azure/azure-sdk-for-js/main/sdk/core/core-util/samples/.gitkeep', 'type': 'file', '_links': {'self': 'https://api.github.com/repos/Azure/azure-sdk-for-js/contents/sdk/core/core-util/samples/.gitkeep?ref=main', 'git': 'https://api.github.com/repos/Azure/azure-sdk-for-js/git/blobs/e69de29bb2d1d6434b8b29ae775ad8c2e48c5391', 'html': 'https://github.com/Azure/azure-sdk-for-js/blob/main/sdk/core/core-util/samples/.gitkeep'}}\n",
      "{'name': 'tsconfig.json', 'path': 'sdk/eventhub/mock-hub/samples/tsconfig.json', 'sha': '47c458d6b35154bd37c2503a9aaff467c84335d1', 'size': 310, 'url': 'https://api.github.com/repos/Azure/azure-sdk-for-js/contents/sdk/eventhub/mock-hub/samples/tsconfig.json?ref=main', 'html_url': 'https://github.com/Azure/azure-sdk-for-js/blob/main/sdk/eventhub/mock-hub/samples/tsconfig.json', 'git_url': 'https://api.github.com/repos/Azure/azure-sdk-for-js/git/blobs/47c458d6b35154bd37c2503a9aaff467c84335d1', 'download_url': 'https://raw.githubusercontent.com/Azure/azure-sdk-for-js/main/sdk/eventhub/mock-hub/samples/tsconfig.json', 'type': 'file', '_links': {'self': 'https://api.github.com/repos/Azure/azure-sdk-for-js/contents/sdk/eventhub/mock-hub/samples/tsconfig.json?ref=main', 'git': 'https://api.github.com/repos/Azure/azure-sdk-for-js/git/blobs/47c458d6b35154bd37c2503a9aaff467c84335d1', 'html': 'https://github.com/Azure/azure-sdk-for-js/blob/main/sdk/eventhub/mock-hub/samples/tsconfig.json'}}\n",
      "{'name': 'AzureIdentityExamples.md', 'path': 'sdk/identity/identity/samples/AzureIdentityExamples.md', 'sha': 'f5128732c0b96d342bf34d1a319be00f03cb3424', 'size': 76363, 'url': 'https://api.github.com/repos/Azure/azure-sdk-for-js/contents/sdk/identity/identity/samples/AzureIdentityExamples.md?ref=main', 'html_url': 'https://github.com/Azure/azure-sdk-for-js/blob/main/sdk/identity/identity/samples/AzureIdentityExamples.md', 'git_url': 'https://api.github.com/repos/Azure/azure-sdk-for-js/git/blobs/f5128732c0b96d342bf34d1a319be00f03cb3424', 'download_url': 'https://raw.githubusercontent.com/Azure/azure-sdk-for-js/main/sdk/identity/identity/samples/AzureIdentityExamples.md', 'type': 'file', '_links': {'self': 'https://api.github.com/repos/Azure/azure-sdk-for-js/contents/sdk/identity/identity/samples/AzureIdentityExamples.md?ref=main', 'git': 'https://api.github.com/repos/Azure/azure-sdk-for-js/git/blobs/f5128732c0b96d342bf34d1a319be00f03cb3424', 'html': 'https://github.com/Azure/azure-sdk-for-js/blob/main/sdk/identity/identity/samples/AzureIdentityExamples.md'}}\n",
      "{'name': '.gitkeep', 'path': 'sdk/tables/data-tables/samples/.gitkeep', 'sha': 'e69de29bb2d1d6434b8b29ae775ad8c2e48c5391', 'size': 0, 'url': 'https://api.github.com/repos/Azure/azure-sdk-for-js/contents/sdk/tables/data-tables/samples/.gitkeep?ref=main', 'html_url': 'https://github.com/Azure/azure-sdk-for-js/blob/main/sdk/tables/data-tables/samples/.gitkeep', 'git_url': 'https://api.github.com/repos/Azure/azure-sdk-for-js/git/blobs/e69de29bb2d1d6434b8b29ae775ad8c2e48c5391', 'download_url': 'https://raw.githubusercontent.com/Azure/azure-sdk-for-js/main/sdk/tables/data-tables/samples/.gitkeep', 'type': 'file', '_links': {'self': 'https://api.github.com/repos/Azure/azure-sdk-for-js/contents/sdk/tables/data-tables/samples/.gitkeep?ref=main', 'git': 'https://api.github.com/repos/Azure/azure-sdk-for-js/git/blobs/e69de29bb2d1d6434b8b29ae775ad8c2e48c5391', 'html': 'https://github.com/Azure/azure-sdk-for-js/blob/main/sdk/tables/data-tables/samples/.gitkeep'}}\n",
      "finished writing to file:  ../data/READMEs/azure_sdk_samples_javascript_list.json\n",
      "finished writing to file:  ../data/READMEs/azure_sdk_samples_rust_list.json\n"
     ]
    }
   ],
   "source": [
    "# output_file_path=\"../data/READMEs/azure_sdk_readme_net_list.json\"\n",
    "\n",
    "# net_data = get_azure_sdk_readmes(owner='Azure', repo='azure-sdk-for-net')\n",
    "# JSON_readme_list = getREADMEContent(net_data, [\"C#\", \".NET\"])\n",
    "# with open(output_file_path, \"w\") as outfile:\n",
    "#     json.dump(JSON_readme_list, outfile)\n",
    "\n",
    "# output_file_path=\"../data/READMEs/azure_sdk_readme_java_list.json\"\n",
    "# java_data = get_azure_sdk_readmes(owner='Azure', repo='azure-sdk-for-java')\n",
    "# JSON_readme_list = getREADMEContent(java_data, [\"Java\"])\n",
    "# with open(output_file_path, \"a\") as outfile:\n",
    "#     json.dump(JSON_readme_list, outfile)\n",
    "\n",
    "# output_file_path=\"../data/READMEs/azure_sdk_readme_javascript_list.json\"\n",
    "# javascript_data = get_azure_sdk_readmes(owner='Azure', repo='azure-sdk-for-js')\n",
    "# JSON_readme_list = getREADMEContent(javascript_data, [\"JavaScript\"])\n",
    "# with open(output_file_path, \"a\") as outfile:\n",
    "#     json.dump(JSON_readme_list, outfile)\n",
    "\n",
    "# output_file_path=\"../data/READMEs/azure_sdk_readme_python_list.json\"\n",
    "# python_data = get_azure_sdk_readmes(owner='Azure', repo='azure-sdk-for-python')\n",
    "# JSON_readme_list = getREADMEContent(python_data, [\"Python\"])\n",
    "# with open(output_file_path, \"a\") as outfile:\n",
    "#     json.dump(JSON_readme_list, outfile)\n",
    "\n",
    "# output_file_path=\"../data/READMEs/azure_sdk_samples_net_list.json\"\n",
    "# net_data = get_azure_sdk_samples(owner='Azure', repo='azure-sdk-for-net')\n",
    "# JSON_readme_list = getREADMEContent(net_data, [\"C#\", \".NET\"])\n",
    "# with open(output_file_path, \"w\") as outfile:\n",
    "#     json.dump(JSON_readme_list, outfile)\n",
    "\n",
    "# print(\"finished writing to file: \",output_file_path)\n",
    "\n",
    "# output_file_path=\"../data/READMEs/azure_sdk_samples_python_list.json\"    \n",
    "# net_data = get_azure_sdk_samples(owner='Azure', repo='azure-sdk-for-python')\n",
    "# JSON_readme_list = getREADMEContent(net_data, [\"Python\"])\n",
    "# with open(output_file_path, \"w\") as outfile:\n",
    "#     json.dump(JSON_readme_list, outfile)\n",
    "\n",
    "output_file_path=\"../data/READMEs/azure_sdk_samples_java_list.json\"\n",
    "java_data = get_azure_sdk_samples(owner='Azure', repo='azure-sdk-for-java')\n",
    "JSON_readme_list = getREADMEContent(java_data, [\"Java\"])\n",
    "with open(output_file_path, \"w\") as outfile:\n",
    "    json.dump(JSON_readme_list, outfile)\n",
    "print(\"finished writing to file: \",output_file_path)\n",
    "\n",
    "output_file_path=\"../data/READMEs/azure_sdk_samples_javascript_list.json\"\n",
    "javascript_data = get_azure_sdk_samples(owner='Azure', repo='azure-sdk-for-js')\n",
    "JSON_readme_list = getREADMEContent(javascript_data, [\"JavaScript\"])\n",
    "with open(output_file_path, \"w\") as outfile:\n",
    "    json.dump(JSON_readme_list, outfile)\n",
    "print(\"finished writing to file: \",output_file_path)\n",
    "\n",
    "output_file_path=\"../data/READMEs/azure_sdk_samples_rust_list.json\"\n",
    "rust_data = get_azure_sdk_samples(owner='Azure', repo='azure-sdk-for-rust')\n",
    "JSON_readme_list = getREADMEContent(rust_data, [\"Rust\"])\n",
    "with open(output_file_path, \"w\") as outfile:\n",
    "    json.dump(JSON_readme_list, outfile)    \n",
    "print(\"finished writing to file: \",output_file_path)"
   ]
  },
  {
   "cell_type": "code",
   "execution_count": 11,
   "metadata": {},
   "outputs": [],
   "source": [
    "# len(net_data)\n",
    "# print(net_data[4])\n",
    "# JSON_readme_list = getREADMEContent(net_data, [\"C#\", \".NET\"])\n",
    "# len(JSON_readme_list)\n",
    "# print(JSON_readme_list[0])  "
   ]
  },
  {
   "cell_type": "code",
   "execution_count": 12,
   "metadata": {},
   "outputs": [],
   "source": [
    "# def load_json_from_file(file_path):\n",
    "#     with open(file_path, \"r\") as infile:\n",
    "#         data = json.load(infile)\n",
    "#     return data\n"
   ]
  },
  {
   "cell_type": "code",
   "execution_count": 13,
   "metadata": {},
   "outputs": [],
   "source": [
    "# data = load_json_from_file(\"../data/READMEs/azure_sdk_readme_list.json\")"
   ]
  },
  {
   "cell_type": "code",
   "execution_count": 14,
   "metadata": {},
   "outputs": [],
   "source": [
    "# data "
   ]
  },
  {
   "cell_type": "code",
   "execution_count": 15,
   "metadata": {},
   "outputs": [],
   "source": [
    "# len(data)"
   ]
  },
  {
   "cell_type": "code",
   "execution_count": 16,
   "metadata": {},
   "outputs": [],
   "source": [
    "# data[-6:]"
   ]
  }
 ],
 "metadata": {
  "kernelspec": {
   "display_name": "huggingFaceBase",
   "language": "python",
   "name": "python3"
  },
  "language_info": {
   "codemirror_mode": {
    "name": "ipython",
    "version": 3
   },
   "file_extension": ".py",
   "mimetype": "text/x-python",
   "name": "python",
   "nbconvert_exporter": "python",
   "pygments_lexer": "ipython3",
   "version": "3.10.9"
  },
  "orig_nbformat": 4
 },
 "nbformat": 4,
 "nbformat_minor": 2
}
